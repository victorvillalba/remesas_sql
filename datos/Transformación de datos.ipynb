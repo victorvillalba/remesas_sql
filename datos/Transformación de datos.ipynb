
data_long = data.melt(id_cars = ["Fecha"])